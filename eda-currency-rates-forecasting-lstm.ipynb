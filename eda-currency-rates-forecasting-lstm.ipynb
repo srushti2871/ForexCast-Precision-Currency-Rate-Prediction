{
 "cells": [
  {
   "cell_type": "code",
   "execution_count": 1,
   "id": "fdf1db1a",
   "metadata": {
    "_cell_guid": "b1076dfc-b9ad-4769-8c92-a6c4dae69d19",
    "_uuid": "8f2839f25d086af736a60e9eeb907d3b93b6e0e5",
    "execution": {
     "iopub.execute_input": "2023-08-15T20:02:59.126032Z",
     "iopub.status.busy": "2023-08-15T20:02:59.125522Z",
     "iopub.status.idle": "2023-08-15T20:02:59.149347Z",
     "shell.execute_reply": "2023-08-15T20:02:59.148030Z"
    },
    "papermill": {
     "duration": 0.048358,
     "end_time": "2023-08-15T20:02:59.152728",
     "exception": false,
     "start_time": "2023-08-15T20:02:59.104370",
     "status": "completed"
    },
    "tags": []
   },
   "outputs": [
    {
     "name": "stdout",
     "output_type": "stream",
     "text": [
      "/kaggle/input/currency-exchange-rates/exchange_rates.csv\n"
     ]
    }
   ],
   "source": [
    "import numpy as np # linear algebra\n",
    "import pandas as pd # data processing, CSV file I/O (e.g. pd.read_csv)\n",
    "import os\n",
    "\n",
    "for dirname, _, filenames in os.walk('/kaggle/input'):\n",
    "    for filename in filenames:\n",
    "        print(os.path.join(dirname, filename))\n",
    "file_path = '/kaggle/input/currency-exchange-rates/exchange_rates.csv'"
   ]
  },
  {
   "cell_type": "markdown",
   "id": "31dfbd27",
   "metadata": {
    "papermill": {
     "duration": 0.019644,
     "end_time": "2023-08-15T20:02:59.190925",
     "exception": false,
     "start_time": "2023-08-15T20:02:59.171281",
     "status": "completed"
    },
    "tags": []
   },
   "source": [
    "# 📙 1. Load data"
   ]
  },
  {
   "cell_type": "code",
   "execution_count": 2,
   "id": "c966ffd8",
   "metadata": {
    "execution": {
     "iopub.execute_input": "2023-08-15T20:02:59.227960Z",
     "iopub.status.busy": "2023-08-15T20:02:59.227530Z",
     "iopub.status.idle": "2023-08-15T20:02:59.454733Z",
     "shell.execute_reply": "2023-08-15T20:02:59.453854Z"
    },
    "papermill": {
     "duration": 0.249112,
     "end_time": "2023-08-15T20:02:59.457664",
     "exception": false,
     "start_time": "2023-08-15T20:02:59.208552",
     "status": "completed"
    },
    "tags": []
   },
   "outputs": [
    {
     "data": {
      "text/html": [
       "<div>\n",
       "<style scoped>\n",
       "    .dataframe tbody tr th:only-of-type {\n",
       "        vertical-align: middle;\n",
       "    }\n",
       "\n",
       "    .dataframe tbody tr th {\n",
       "        vertical-align: top;\n",
       "    }\n",
       "\n",
       "    .dataframe thead th {\n",
       "        text-align: right;\n",
       "    }\n",
       "</style>\n",
       "<table border=\"1\" class=\"dataframe\">\n",
       "  <thead>\n",
       "    <tr style=\"text-align: right;\">\n",
       "      <th></th>\n",
       "      <th>Country/Currency</th>\n",
       "      <th>currency</th>\n",
       "      <th>value</th>\n",
       "      <th>date</th>\n",
       "    </tr>\n",
       "  </thead>\n",
       "  <tbody>\n",
       "    <tr>\n",
       "      <th>0</th>\n",
       "      <td>Australia Dollar</td>\n",
       "      <td>AUD</td>\n",
       "      <td>1.581627</td>\n",
       "      <td>2021-12-17</td>\n",
       "    </tr>\n",
       "    <tr>\n",
       "      <th>1</th>\n",
       "      <td>Great Britain Pound</td>\n",
       "      <td>GBP</td>\n",
       "      <td>0.851619</td>\n",
       "      <td>2021-12-17</td>\n",
       "    </tr>\n",
       "    <tr>\n",
       "      <th>2</th>\n",
       "      <td>Euro</td>\n",
       "      <td>EUR</td>\n",
       "      <td>1.000000</td>\n",
       "      <td>2021-12-17</td>\n",
       "    </tr>\n",
       "    <tr>\n",
       "      <th>3</th>\n",
       "      <td>Japan Yen</td>\n",
       "      <td>JPY</td>\n",
       "      <td>128.301759</td>\n",
       "      <td>2021-12-17</td>\n",
       "    </tr>\n",
       "    <tr>\n",
       "      <th>4</th>\n",
       "      <td>Switzerland Franc</td>\n",
       "      <td>CHF</td>\n",
       "      <td>1.041015</td>\n",
       "      <td>2021-12-17</td>\n",
       "    </tr>\n",
       "  </tbody>\n",
       "</table>\n",
       "</div>"
      ],
      "text/plain": [
       "      Country/Currency currency       value       date\n",
       "0     Australia Dollar      AUD    1.581627 2021-12-17\n",
       "1  Great Britain Pound      GBP    0.851619 2021-12-17\n",
       "2                 Euro      EUR    1.000000 2021-12-17\n",
       "3            Japan Yen      JPY  128.301759 2021-12-17\n",
       "4    Switzerland Franc      CHF    1.041015 2021-12-17"
      ]
     },
     "execution_count": 2,
     "metadata": {},
     "output_type": "execute_result"
    }
   ],
   "source": [
    "dataset = pd.read_csv(file_path, parse_dates=['date'], index_col = 0)\n",
    "dataset.head()"
   ]
  },
  {
   "cell_type": "code",
   "execution_count": 3,
   "id": "07a4882f",
   "metadata": {
    "execution": {
     "iopub.execute_input": "2023-08-15T20:02:59.496196Z",
     "iopub.status.busy": "2023-08-15T20:02:59.495790Z",
     "iopub.status.idle": "2023-08-15T20:02:59.522442Z",
     "shell.execute_reply": "2023-08-15T20:02:59.520985Z"
    },
    "papermill": {
     "duration": 0.048974,
     "end_time": "2023-08-15T20:02:59.525293",
     "exception": false,
     "start_time": "2023-08-15T20:02:59.476319",
     "status": "completed"
    },
    "tags": []
   },
   "outputs": [
    {
     "data": {
      "text/html": [
       "<div>\n",
       "<style scoped>\n",
       "    .dataframe tbody tr th:only-of-type {\n",
       "        vertical-align: middle;\n",
       "    }\n",
       "\n",
       "    .dataframe tbody tr th {\n",
       "        vertical-align: top;\n",
       "    }\n",
       "\n",
       "    .dataframe thead th {\n",
       "        text-align: right;\n",
       "    }\n",
       "</style>\n",
       "<table border=\"1\" class=\"dataframe\">\n",
       "  <thead>\n",
       "    <tr style=\"text-align: right;\">\n",
       "      <th></th>\n",
       "      <th>value</th>\n",
       "    </tr>\n",
       "  </thead>\n",
       "  <tbody>\n",
       "    <tr>\n",
       "      <th>count</th>\n",
       "      <td>91176.000000</td>\n",
       "    </tr>\n",
       "    <tr>\n",
       "      <th>mean</th>\n",
       "      <td>1646.740359</td>\n",
       "    </tr>\n",
       "    <tr>\n",
       "      <th>std</th>\n",
       "      <td>5474.453605</td>\n",
       "    </tr>\n",
       "    <tr>\n",
       "      <th>min</th>\n",
       "      <td>0.130975</td>\n",
       "    </tr>\n",
       "    <tr>\n",
       "      <th>25%</th>\n",
       "      <td>3.962336</td>\n",
       "    </tr>\n",
       "    <tr>\n",
       "      <th>50%</th>\n",
       "      <td>34.760292</td>\n",
       "    </tr>\n",
       "    <tr>\n",
       "      <th>75%</th>\n",
       "      <td>395.870479</td>\n",
       "    </tr>\n",
       "    <tr>\n",
       "      <th>max</th>\n",
       "      <td>51690.453353</td>\n",
       "    </tr>\n",
       "  </tbody>\n",
       "</table>\n",
       "</div>"
      ],
      "text/plain": [
       "              value\n",
       "count  91176.000000\n",
       "mean    1646.740359\n",
       "std     5474.453605\n",
       "min        0.130975\n",
       "25%        3.962336\n",
       "50%       34.760292\n",
       "75%      395.870479\n",
       "max    51690.453353"
      ]
     },
     "execution_count": 3,
     "metadata": {},
     "output_type": "execute_result"
    }
   ],
   "source": [
    "# some insight about whole dataset\n",
    "dataset.describe()"
   ]
  },
  {
   "cell_type": "markdown",
   "id": "cf48f32d",
   "metadata": {
    "papermill": {
     "duration": 0.017778,
     "end_time": "2023-08-15T20:02:59.561502",
     "exception": false,
     "start_time": "2023-08-15T20:02:59.543724",
     "status": "completed"
    },
    "tags": []
   },
   "source": [
    "# 📙 2. EDA on Currency data"
   ]
  },
  {
   "cell_type": "markdown",
   "id": "a726e4e2",
   "metadata": {
    "papermill": {
     "duration": 0.017597,
     "end_time": "2023-08-15T20:02:59.597127",
     "exception": false,
     "start_time": "2023-08-15T20:02:59.579530",
     "status": "completed"
    },
    "tags": []
   },
   "source": [
    "## 2.1 First check if any null values present"
   ]
  },
  {
   "cell_type": "code",
   "execution_count": 4,
   "id": "21d8d159",
   "metadata": {
    "execution": {
     "iopub.execute_input": "2023-08-15T20:02:59.635157Z",
     "iopub.status.busy": "2023-08-15T20:02:59.634712Z",
     "iopub.status.idle": "2023-08-15T20:02:59.666519Z",
     "shell.execute_reply": "2023-08-15T20:02:59.665591Z"
    },
    "papermill": {
     "duration": 0.054241,
     "end_time": "2023-08-15T20:02:59.669359",
     "exception": false,
     "start_time": "2023-08-15T20:02:59.615118",
     "status": "completed"
    },
    "tags": []
   },
   "outputs": [
    {
     "data": {
      "text/plain": [
       "Country/Currency    0\n",
       "currency            0\n",
       "value               0\n",
       "date                0\n",
       "dtype: int64"
      ]
     },
     "execution_count": 4,
     "metadata": {},
     "output_type": "execute_result"
    }
   ],
   "source": [
    "dataset.isnull().sum()"
   ]
  },
  {
   "cell_type": "markdown",
   "id": "ca580099",
   "metadata": {
    "papermill": {
     "duration": 0.017878,
     "end_time": "2023-08-15T20:02:59.705439",
     "exception": false,
     "start_time": "2023-08-15T20:02:59.687561",
     "status": "completed"
    },
    "tags": []
   },
   "source": [
    "## 2.2 Types of Currency data present"
   ]
  },
  {
   "cell_type": "code",
   "execution_count": 5,
   "id": "1b668a15",
   "metadata": {
    "execution": {
     "iopub.execute_input": "2023-08-15T20:02:59.743759Z",
     "iopub.status.busy": "2023-08-15T20:02:59.743311Z",
     "iopub.status.idle": "2023-08-15T20:02:59.760092Z",
     "shell.execute_reply": "2023-08-15T20:02:59.758962Z"
    },
    "papermill": {
     "duration": 0.038906,
     "end_time": "2023-08-15T20:02:59.762470",
     "exception": false,
     "start_time": "2023-08-15T20:02:59.723564",
     "status": "completed"
    },
    "tags": []
   },
   "outputs": [
    {
     "data": {
      "text/plain": [
       "array(['AUD', 'GBP', 'EUR', 'JPY', 'CHF', 'USD', 'AFN', 'ALL', 'DZD',\n",
       "       'AOA', 'ARS', 'AMD', 'AWG', 'AZN', 'BSD', 'BHD', 'BDT', 'BBD',\n",
       "       'BYR', 'BZD', 'BMD', 'BTN', 'BOB', 'BAM', 'BWP', 'BRL', 'BND',\n",
       "       'BGN', 'BIF', 'XOF', 'XAF', 'XPF', 'KHR', 'CAD', 'CVE', 'KYD',\n",
       "       'CLP', 'CNY', 'COP', 'KMF', 'CDF', 'CRC', 'HRK', 'CUC', 'CUP',\n",
       "       'CZK', 'DKK', 'DJF', 'DOP', 'XCD', 'EGP', 'SVC', 'ETB', 'FKP',\n",
       "       'FJD', 'GMD', 'GEL', 'GHS', 'GIP', 'GTQ', 'GNF', 'GYD', 'HTG',\n",
       "       'HNL', 'HKD', 'HUF', 'ISK', 'INR', 'IDR', 'IRR', 'IQD', 'ILS',\n",
       "       'JMD', 'JOD', 'KZT', 'KES', 'KWD', 'KGS', 'LAK', 'LBP', 'LSL',\n",
       "       'LRD', 'LYD', 'MOP', 'MKD', 'MGA', 'MWK', 'MYR', 'MVR', 'MRO',\n",
       "       'MUR', 'MXN', 'MDL', 'MNT', 'MAD', 'MZN', 'MMK', 'ANG', 'NAD',\n",
       "       'NPR', 'NZD', 'NIO', 'NGN', 'KPW', 'NOK', 'OMR', 'PKR', 'PAB',\n",
       "       'PGK', 'PYG', 'PEN', 'PHP', 'PLN', 'QAR', 'RON', 'RUB', 'RWF',\n",
       "       'WST', 'STD', 'SAR', 'RSD', 'SCR', 'SLL', 'SGD', 'SBD', 'SOS',\n",
       "       'ZAR', 'KRW', 'LKR', 'SHP', 'SDG', 'SRD', 'SZL', 'SEK', 'SYP',\n",
       "       'TWD', 'TZS', 'THB', 'TOP', 'TTD', 'TND', 'TRY', 'UGX', 'UAH',\n",
       "       'UYU', 'AED', 'VUV', 'VND', 'YER', 'ZMK'], dtype=object)"
      ]
     },
     "execution_count": 5,
     "metadata": {},
     "output_type": "execute_result"
    }
   ],
   "source": [
    "dataset['currency'].unique()"
   ]
  },
  {
   "cell_type": "code",
   "execution_count": 6,
   "id": "220ca1d3",
   "metadata": {
    "execution": {
     "iopub.execute_input": "2023-08-15T20:02:59.801423Z",
     "iopub.status.busy": "2023-08-15T20:02:59.801012Z",
     "iopub.status.idle": "2023-08-15T20:02:59.819490Z",
     "shell.execute_reply": "2023-08-15T20:02:59.818320Z"
    },
    "papermill": {
     "duration": 0.040954,
     "end_time": "2023-08-15T20:02:59.822116",
     "exception": false,
     "start_time": "2023-08-15T20:02:59.781162",
     "status": "completed"
    },
    "tags": []
   },
   "outputs": [
    {
     "data": {
      "text/plain": [
       "array(['Australia Dollar', 'Great Britain Pound', 'Euro', 'Japan Yen',\n",
       "       'Switzerland Franc', 'USA Dollar', 'Afghanistan Afghani',\n",
       "       'Albania Lek', 'Algeria Dinar', 'Angola Kwanza', 'Argentina Peso',\n",
       "       'Armenia Dram', 'Aruba Florin', 'Azerbaijan New Manat',\n",
       "       'Bahamas Dollar', 'Bahrain Dinar', 'Bangladesh Taka',\n",
       "       'Barbados Dollar', 'Belarus Ruble', 'Belize Dollar',\n",
       "       'Bermuda Dollar', 'Bhutan Ngultrum', 'Bolivia Boliviano',\n",
       "       'Bosnia Mark', 'Botswana Pula', 'Brazil Real', 'Brunei Dollar',\n",
       "       'Bulgaria Lev', 'Burundi Franc', 'CFA Franc BCEAO',\n",
       "       'CFA Franc BEAC', 'CFP Franc', 'Cambodia Riel', 'Canada Dollar',\n",
       "       'Cape Verde Escudo', 'Cayman Islands Dollar', 'Chili Peso',\n",
       "       'China Yuan/Renminbi', 'Colombia Peso', 'Comoros Franc',\n",
       "       'Congo Franc', 'Costa Rica Colon', 'Croatia Kuna',\n",
       "       'Cuba Convertible Peso', 'Cuba Peso', 'Czech Koruna',\n",
       "       'Denmark Krone', 'Djibouti Franc', 'Dominican Republich Peso',\n",
       "       'East Caribbean Dollar', 'Egypt Pound', 'El Salvador Colon',\n",
       "       'Ethiopia Birr', 'Falkland Islands Pound', 'Fiji Dollar',\n",
       "       'Gambia Dalasi', 'Georgia Lari', 'Ghana New Cedi',\n",
       "       'Gibraltar Pound', 'Guatemala Quetzal', 'Guinea Franc',\n",
       "       'Guyana Dollar', 'Haiti Gourde', 'Honduras Lempira',\n",
       "       'Hong Kong Dollar', 'Hungary Forint', 'Iceland Krona',\n",
       "       'India Rupee', 'Indonesia Rupiah', 'Iran Rial', 'Iraq Dinar',\n",
       "       'Israel New Shekel', 'Jamaica Dollar', 'Jordan Dinar',\n",
       "       'Kazakhstan Tenge', 'Kenya Shilling', 'Kuwait Dinar',\n",
       "       'Kyrgyzstan Som', 'Laos Kip', 'Lebanon Pound', 'Lesotho Loti',\n",
       "       'Liberia Dollar', 'Libya Dinar', 'Macau Pataca', 'Macedonia Denar',\n",
       "       'Malagasy Ariary', 'Malawi Kwacha', 'Malaysia Ringgit',\n",
       "       'Maldives Rufiyaa', 'Mauritania Ouguiya', 'Mauritius Rupee',\n",
       "       'Mexico Peso', 'Moldova Leu', 'Mongolia Tugrik', 'Morocco Dirham',\n",
       "       'Mozambique New Metical', 'Myanmar Kyat', 'NL Antilles Guilder',\n",
       "       'Namibia Dollar', 'Nepal Rupee', 'New Zealand Dollar',\n",
       "       'Nicaragua Cordoba Oro', 'Nigeria Naira', 'North Korea Won',\n",
       "       'Norway Kroner', 'Oman Rial', 'Pakistan Rupee', 'Panama Balboa',\n",
       "       'Papua New Guinea Kina', 'Paraguay Guarani', 'Peru Nuevo Sol',\n",
       "       'Philippines Peso', 'Poland Zloty', 'Qatar Rial',\n",
       "       'Romania New Lei', 'Russia Rouble', 'Rwanda Franc', 'Samoa Tala',\n",
       "       'Sao Tome/Principe Dobra', 'Saudi Arabia Riyal', 'Serbia Dinar',\n",
       "       'Seychelles Rupee', 'Sierra Leone Leone', 'Singapore Dollar',\n",
       "       'Solomon Islands Dollar', 'Somali Shilling', 'South Africa Rand',\n",
       "       'South Korea Won', 'Sri Lanka Rupee', 'St Helena Pound',\n",
       "       'Sudan Pound', 'Suriname Dollar', 'Swaziland Lilangeni',\n",
       "       'Sweden Krona', 'Syria Pound', 'Taiwan Dollar',\n",
       "       'Tanzania Shilling', 'Thailand Baht', \"Tonga Pa'anga\",\n",
       "       'Trinidad/Tobago Dollar', 'Tunisia Dinar', 'Turkish New Lira',\n",
       "       'Uganda Shilling', 'Ukraine Hryvnia', 'Uruguay Peso',\n",
       "       'United Arab Emirates Dirham', 'Vanuatu Vatu', 'Vietnam Dong',\n",
       "       'Yemen Rial', 'Zambia Kwacha'], dtype=object)"
      ]
     },
     "execution_count": 6,
     "metadata": {},
     "output_type": "execute_result"
    }
   ],
   "source": [
    "# Print currency names\n",
    "dataset['Country/Currency'].unique()"
   ]
  },
  {
   "cell_type": "code",
   "execution_count": 7,
   "id": "cf91cd2c",
   "metadata": {
    "execution": {
     "iopub.execute_input": "2023-08-15T20:02:59.861667Z",
     "iopub.status.busy": "2023-08-15T20:02:59.861252Z",
     "iopub.status.idle": "2023-08-15T20:02:59.889157Z",
     "shell.execute_reply": "2023-08-15T20:02:59.887972Z"
    },
    "papermill": {
     "duration": 0.051704,
     "end_time": "2023-08-15T20:02:59.892718",
     "exception": false,
     "start_time": "2023-08-15T20:02:59.841014",
     "status": "completed"
    },
    "tags": []
   },
   "outputs": [
    {
     "name": "stdout",
     "output_type": "stream",
     "text": [
      "Country name: Australia Dollar -> Currency: AUD\n",
      "Country name: Great Britain Pound -> Currency: GBP\n",
      "Country name: Euro -> Currency: EUR\n",
      "Country name: Japan Yen -> Currency: JPY\n",
      "Country name: Switzerland Franc -> Currency: CHF\n",
      "Country name: USA Dollar -> Currency: USD\n",
      "Country name: Afghanistan Afghani -> Currency: AFN\n",
      "Country name: Albania Lek -> Currency: ALL\n",
      "Country name: Algeria Dinar -> Currency: DZD\n",
      "Country name: Angola Kwanza -> Currency: AOA\n",
      "Country name: Argentina Peso -> Currency: ARS\n",
      "Country name: Armenia Dram -> Currency: AMD\n",
      "Country name: Aruba Florin -> Currency: AWG\n",
      "Country name: Azerbaijan New Manat -> Currency: AZN\n",
      "Country name: Bahamas Dollar -> Currency: BSD\n",
      "Country name: Bahrain Dinar -> Currency: BHD\n",
      "Country name: Bangladesh Taka -> Currency: BDT\n",
      "Country name: Barbados Dollar -> Currency: BBD\n",
      "Country name: Belarus Ruble -> Currency: BYR\n",
      "Country name: Belize Dollar -> Currency: BZD\n",
      "Country name: Bermuda Dollar -> Currency: BMD\n",
      "Country name: Bhutan Ngultrum -> Currency: BTN\n",
      "Country name: Bolivia Boliviano -> Currency: BOB\n",
      "Country name: Bosnia Mark -> Currency: BAM\n",
      "Country name: Botswana Pula -> Currency: BWP\n",
      "Country name: Brazil Real -> Currency: BRL\n",
      "Country name: Brunei Dollar -> Currency: BND\n",
      "Country name: Bulgaria Lev -> Currency: BGN\n",
      "Country name: Burundi Franc -> Currency: BIF\n",
      "Country name: CFA Franc BCEAO -> Currency: XOF\n",
      "Country name: CFA Franc BEAC -> Currency: XAF\n",
      "Country name: CFP Franc -> Currency: XPF\n",
      "Country name: Cambodia Riel -> Currency: KHR\n",
      "Country name: Canada Dollar -> Currency: CAD\n",
      "Country name: Cape Verde Escudo -> Currency: CVE\n",
      "Country name: Cayman Islands Dollar -> Currency: KYD\n",
      "Country name: Chili Peso -> Currency: CLP\n",
      "Country name: China Yuan/Renminbi -> Currency: CNY\n",
      "Country name: Colombia Peso -> Currency: COP\n",
      "Country name: Comoros Franc -> Currency: KMF\n",
      "Country name: Congo Franc -> Currency: CDF\n",
      "Country name: Costa Rica Colon -> Currency: CRC\n",
      "Country name: Croatia Kuna -> Currency: HRK\n",
      "Country name: Cuba Convertible Peso -> Currency: CUC\n",
      "Country name: Cuba Peso -> Currency: CUP\n",
      "Country name: Czech Koruna -> Currency: CZK\n",
      "Country name: Denmark Krone -> Currency: DKK\n",
      "Country name: Djibouti Franc -> Currency: DJF\n",
      "Country name: Dominican Republich Peso -> Currency: DOP\n",
      "Country name: East Caribbean Dollar -> Currency: XCD\n",
      "Country name: Egypt Pound -> Currency: EGP\n",
      "Country name: El Salvador Colon -> Currency: SVC\n",
      "Country name: Ethiopia Birr -> Currency: ETB\n",
      "Country name: Falkland Islands Pound -> Currency: FKP\n",
      "Country name: Fiji Dollar -> Currency: FJD\n",
      "Country name: Gambia Dalasi -> Currency: GMD\n",
      "Country name: Georgia Lari -> Currency: GEL\n",
      "Country name: Ghana New Cedi -> Currency: GHS\n",
      "Country name: Gibraltar Pound -> Currency: GIP\n",
      "Country name: Guatemala Quetzal -> Currency: GTQ\n",
      "Country name: Guinea Franc -> Currency: GNF\n",
      "Country name: Guyana Dollar -> Currency: GYD\n",
      "Country name: Haiti Gourde -> Currency: HTG\n",
      "Country name: Honduras Lempira -> Currency: HNL\n",
      "Country name: Hong Kong Dollar -> Currency: HKD\n",
      "Country name: Hungary Forint -> Currency: HUF\n",
      "Country name: Iceland Krona -> Currency: ISK\n",
      "Country name: India Rupee -> Currency: INR\n",
      "Country name: Indonesia Rupiah -> Currency: IDR\n",
      "Country name: Iran Rial -> Currency: IRR\n",
      "Country name: Iraq Dinar -> Currency: IQD\n",
      "Country name: Israel New Shekel -> Currency: ILS\n",
      "Country name: Jamaica Dollar -> Currency: JMD\n",
      "Country name: Jordan Dinar -> Currency: JOD\n",
      "Country name: Kazakhstan Tenge -> Currency: KZT\n",
      "Country name: Kenya Shilling -> Currency: KES\n",
      "Country name: Kuwait Dinar -> Currency: KWD\n",
      "Country name: Kyrgyzstan Som -> Currency: KGS\n",
      "Country name: Laos Kip -> Currency: LAK\n",
      "Country name: Lebanon Pound -> Currency: LBP\n",
      "Country name: Lesotho Loti -> Currency: LSL\n",
      "Country name: Liberia Dollar -> Currency: LRD\n",
      "Country name: Libya Dinar -> Currency: LYD\n",
      "Country name: Macau Pataca -> Currency: MOP\n",
      "Country name: Macedonia Denar -> Currency: MKD\n",
      "Country name: Malagasy Ariary -> Currency: MGA\n",
      "Country name: Malawi Kwacha -> Currency: MWK\n",
      "Country name: Malaysia Ringgit -> Currency: MYR\n",
      "Country name: Maldives Rufiyaa -> Currency: MVR\n",
      "Country name: Mauritania Ouguiya -> Currency: MRO\n",
      "Country name: Mauritius Rupee -> Currency: MUR\n",
      "Country name: Mexico Peso -> Currency: MXN\n",
      "Country name: Moldova Leu -> Currency: MDL\n",
      "Country name: Mongolia Tugrik -> Currency: MNT\n",
      "Country name: Morocco Dirham -> Currency: MAD\n",
      "Country name: Mozambique New Metical -> Currency: MZN\n",
      "Country name: Myanmar Kyat -> Currency: MMK\n",
      "Country name: NL Antilles Guilder -> Currency: ANG\n",
      "Country name: Namibia Dollar -> Currency: NAD\n",
      "Country name: Nepal Rupee -> Currency: NPR\n",
      "Country name: New Zealand Dollar -> Currency: NZD\n",
      "Country name: Nicaragua Cordoba Oro -> Currency: NIO\n",
      "Country name: Nigeria Naira -> Currency: NGN\n",
      "Country name: North Korea Won -> Currency: KPW\n",
      "Country name: Norway Kroner -> Currency: NOK\n",
      "Country name: Oman Rial -> Currency: OMR\n",
      "Country name: Pakistan Rupee -> Currency: PKR\n",
      "Country name: Panama Balboa -> Currency: PAB\n",
      "Country name: Papua New Guinea Kina -> Currency: PGK\n",
      "Country name: Paraguay Guarani -> Currency: PYG\n",
      "Country name: Peru Nuevo Sol -> Currency: PEN\n",
      "Country name: Philippines Peso -> Currency: PHP\n",
      "Country name: Poland Zloty -> Currency: PLN\n",
      "Country name: Qatar Rial -> Currency: QAR\n",
      "Country name: Romania New Lei -> Currency: RON\n",
      "Country name: Russia Rouble -> Currency: RUB\n",
      "Country name: Rwanda Franc -> Currency: RWF\n",
      "Country name: Samoa Tala -> Currency: WST\n",
      "Country name: Sao Tome/Principe Dobra -> Currency: STD\n",
      "Country name: Saudi Arabia Riyal -> Currency: SAR\n",
      "Country name: Serbia Dinar -> Currency: RSD\n",
      "Country name: Seychelles Rupee -> Currency: SCR\n",
      "Country name: Sierra Leone Leone -> Currency: SLL\n",
      "Country name: Singapore Dollar -> Currency: SGD\n",
      "Country name: Solomon Islands Dollar -> Currency: SBD\n",
      "Country name: Somali Shilling -> Currency: SOS\n",
      "Country name: South Africa Rand -> Currency: ZAR\n",
      "Country name: South Korea Won -> Currency: KRW\n",
      "Country name: Sri Lanka Rupee -> Currency: LKR\n",
      "Country name: St Helena Pound -> Currency: SHP\n",
      "Country name: Sudan Pound -> Currency: SDG\n",
      "Country name: Suriname Dollar -> Currency: SRD\n",
      "Country name: Swaziland Lilangeni -> Currency: SZL\n",
      "Country name: Sweden Krona -> Currency: SEK\n",
      "Country name: Syria Pound -> Currency: SYP\n",
      "Country name: Taiwan Dollar -> Currency: TWD\n",
      "Country name: Tanzania Shilling -> Currency: TZS\n",
      "Country name: Thailand Baht -> Currency: THB\n",
      "Country name: Tonga Pa'anga -> Currency: TOP\n",
      "Country name: Trinidad/Tobago Dollar -> Currency: TTD\n",
      "Country name: Tunisia Dinar -> Currency: TND\n",
      "Country name: Turkish New Lira -> Currency: TRY\n",
      "Country name: Uganda Shilling -> Currency: UGX\n",
      "Country name: Ukraine Hryvnia -> Currency: UAH\n",
      "Country name: Uruguay Peso -> Currency: UYU\n",
      "Country name: United Arab Emirates Dirham -> Currency: AED\n",
      "Country name: Vanuatu Vatu -> Currency: VUV\n",
      "Country name: Vietnam Dong -> Currency: VND\n",
      "Country name: Yemen Rial -> Currency: YER\n",
      "Country name: Zambia Kwacha -> Currency: ZMK\n"
     ]
    }
   ],
   "source": [
    "unique_country = list(dataset['Country/Currency'].unique())\n",
    "unique_currency = list(dataset['currency'].unique())\n",
    "for x in range(len(unique_country)):\n",
    "    print('Country name: {0} -> Currency: {1}'.format(unique_country[x], unique_currency[x]))"
   ]
  },
  {
   "cell_type": "markdown",
   "id": "7f5e4cc5",
   "metadata": {
    "papermill": {
     "duration": 0.018778,
     "end_time": "2023-08-15T20:02:59.930992",
     "exception": false,
     "start_time": "2023-08-15T20:02:59.912214",
     "status": "completed"
    },
    "tags": []
   },
   "source": [
    "## 2.3 Pickup some country code for time series analysis\n",
    "\n",
    "    1. USA Dollar -> USD\n",
    "    2. India Rupee -> INR"
   ]
  },
  {
   "cell_type": "code",
   "execution_count": 8,
   "id": "51681a26",
   "metadata": {
    "execution": {
     "iopub.execute_input": "2023-08-15T20:02:59.971303Z",
     "iopub.status.busy": "2023-08-15T20:02:59.970845Z",
     "iopub.status.idle": "2023-08-15T20:03:00.004395Z",
     "shell.execute_reply": "2023-08-15T20:03:00.003130Z"
    },
    "papermill": {
     "duration": 0.056762,
     "end_time": "2023-08-15T20:03:00.007094",
     "exception": false,
     "start_time": "2023-08-15T20:02:59.950332",
     "status": "completed"
    },
    "tags": []
   },
   "outputs": [
    {
     "data": {
      "text/html": [
       "<div>\n",
       "<style scoped>\n",
       "    .dataframe tbody tr th:only-of-type {\n",
       "        vertical-align: middle;\n",
       "    }\n",
       "\n",
       "    .dataframe tbody tr th {\n",
       "        vertical-align: top;\n",
       "    }\n",
       "\n",
       "    .dataframe thead th {\n",
       "        text-align: right;\n",
       "    }\n",
       "</style>\n",
       "<table border=\"1\" class=\"dataframe\">\n",
       "  <thead>\n",
       "    <tr style=\"text-align: right;\">\n",
       "      <th></th>\n",
       "      <th>Country/Currency</th>\n",
       "      <th>currency</th>\n",
       "      <th>value</th>\n",
       "      <th>date</th>\n",
       "    </tr>\n",
       "  </thead>\n",
       "  <tbody>\n",
       "    <tr>\n",
       "      <th>5</th>\n",
       "      <td>USA Dollar</td>\n",
       "      <td>USD</td>\n",
       "      <td>1.132548</td>\n",
       "      <td>2021-12-17</td>\n",
       "    </tr>\n",
       "    <tr>\n",
       "      <th>155</th>\n",
       "      <td>USA Dollar</td>\n",
       "      <td>USD</td>\n",
       "      <td>1.123810</td>\n",
       "      <td>2021-12-18</td>\n",
       "    </tr>\n",
       "    <tr>\n",
       "      <th>305</th>\n",
       "      <td>USA Dollar</td>\n",
       "      <td>USD</td>\n",
       "      <td>1.123810</td>\n",
       "      <td>2021-12-19</td>\n",
       "    </tr>\n",
       "    <tr>\n",
       "      <th>455</th>\n",
       "      <td>USA Dollar</td>\n",
       "      <td>USD</td>\n",
       "      <td>1.124405</td>\n",
       "      <td>2021-12-20</td>\n",
       "    </tr>\n",
       "    <tr>\n",
       "      <th>605</th>\n",
       "      <td>USA Dollar</td>\n",
       "      <td>USD</td>\n",
       "      <td>1.128382</td>\n",
       "      <td>2021-12-21</td>\n",
       "    </tr>\n",
       "  </tbody>\n",
       "</table>\n",
       "</div>"
      ],
      "text/plain": [
       "    Country/Currency currency     value       date\n",
       "5         USA Dollar      USD  1.132548 2021-12-17\n",
       "155       USA Dollar      USD  1.123810 2021-12-18\n",
       "305       USA Dollar      USD  1.123810 2021-12-19\n",
       "455       USA Dollar      USD  1.124405 2021-12-20\n",
       "605       USA Dollar      USD  1.128382 2021-12-21"
      ]
     },
     "execution_count": 8,
     "metadata": {},
     "output_type": "execute_result"
    }
   ],
   "source": [
    "data_usd = dataset.loc[dataset.currency == 'USD']\n",
    "data_usd.head()"
   ]
  },
  {
   "cell_type": "markdown",
   "id": "a44efbf2",
   "metadata": {
    "papermill": {
     "duration": 0.019079,
     "end_time": "2023-08-15T20:03:00.045564",
     "exception": false,
     "start_time": "2023-08-15T20:03:00.026485",
     "status": "completed"
    },
    "tags": []
   },
   "source": [
    "## 2.4 Let's Visualize"
   ]
  },
  {
   "cell_type": "code",
   "execution_count": 9,
   "id": "1611576c",
   "metadata": {
    "_kg_hide-input": true,
    "execution": {
     "iopub.execute_input": "2023-08-15T20:03:00.086380Z",
     "iopub.status.busy": "2023-08-15T20:03:00.085939Z",
     "iopub.status.idle": "2023-08-15T20:03:00.091433Z",
     "shell.execute_reply": "2023-08-15T20:03:00.090318Z"
    },
    "jupyter": {
     "source_hidden": true
    },
    "papermill": {
     "duration": 0.028491,
     "end_time": "2023-08-15T20:03:00.094013",
     "exception": false,
     "start_time": "2023-08-15T20:03:00.065522",
     "status": "completed"
    },
    "tags": []
   },
   "outputs": [],
   "source": [
    "from IPython.display import HTML, display"
   ]
  },
  {
   "cell_type": "code",
   "execution_count": 10,
   "id": "92062e9f",
   "metadata": {
    "_kg_hide-input": true,
    "execution": {
     "iopub.execute_input": "2023-08-15T20:03:00.134171Z",
     "iopub.status.busy": "2023-08-15T20:03:00.133709Z",
     "iopub.status.idle": "2023-08-15T20:03:00.141816Z",
     "shell.execute_reply": "2023-08-15T20:03:00.140549Z"
    },
    "jupyter": {
     "source_hidden": true
    },
    "papermill": {
     "duration": 0.030857,
     "end_time": "2023-08-15T20:03:00.144147",
     "exception": false,
     "start_time": "2023-08-15T20:03:00.113290",
     "status": "completed"
    },
    "tags": []
   },
   "outputs": [],
   "source": [
    "display_usd = HTML(\n",
    "'''\n",
    "<iframe src='https://flo.uri.sh/visualisation/11270785/embed' title='Interactive or visual content'\n",
    "class='flourish-embed-iframe' frameborder='0' scrolling='no' style='width:100%;height:600px;' \n",
    "    sandbox='allow-same-origin allow-forms allow-scripts allow-downloads allow-popups allow-popups-to-escape-sandbox allow-top-navigation-by-user-activation'></iframe>\n",
    "    <div style='width:100%!;margin-top:4px!important;text-align:right!important;'>\n",
    "    <a class='flourish-credit' href='https://public.flourish.studio/visualisation/11270785/?utm_source=embed&utm_campaign=visualisation/11270785' target='_top' style='text-decoration:none!important'>\n",
    "    <img alt='Made with Flourish' src='https://public.flourish.studio/resources/made_with_flourish.svg' style='width:105px!important;height:16px!important;border:none!important;margin:0!important;'> \n",
    "    </a></div>\n",
    "'''\n",
    ")\n",
    "\n",
    "display_inr = HTML(\n",
    "'''\n",
    "<iframe src='https://flo.uri.sh/visualisation/11270830/embed' title='Interactive or visual content'\n",
    "class='flourish-embed-iframe' frameborder='0' scrolling='no' style='width:100%;height:600px;' \n",
    "    sandbox='allow-same-origin allow-forms allow-scripts allow-downloads allow-popups allow-popups-to-escape-sandbox allow-top-navigation-by-user-activation'></iframe>\n",
    "    <div style='width:100%!;margin-top:4px!important;text-align:right!important;'>\n",
    "    <a class='flourish-credit' href='https://public.flourish.studio/visualisation/11270830/?utm_source=embed&utm_campaign=visualisation/11270830' target='_top' style='text-decoration:none!important'>\n",
    "    <img alt='Made with Flourish' src='https://public.flourish.studio/resources/made_with_flourish.svg' style='width:105px!important;height:16px!important;border:none!important;margin:0!important;'> \n",
    "    </a></div>\n",
    "'''\n",
    ")"
   ]
  },
  {
   "cell_type": "markdown",
   "id": "716d9612",
   "metadata": {
    "papermill": {
     "duration": 0.019536,
     "end_time": "2023-08-15T20:03:00.183105",
     "exception": false,
     "start_time": "2023-08-15T20:03:00.163569",
     "status": "completed"
    },
    "tags": []
   },
   "source": [
    "## 2.5 Visualize USD Value"
   ]
  },
  {
   "cell_type": "code",
   "execution_count": 11,
   "id": "1f3cfe4f",
   "metadata": {
    "execution": {
     "iopub.execute_input": "2023-08-15T20:03:00.223010Z",
     "iopub.status.busy": "2023-08-15T20:03:00.222543Z",
     "iopub.status.idle": "2023-08-15T20:03:00.230501Z",
     "shell.execute_reply": "2023-08-15T20:03:00.229192Z"
    },
    "papermill": {
     "duration": 0.031264,
     "end_time": "2023-08-15T20:03:00.233423",
     "exception": false,
     "start_time": "2023-08-15T20:03:00.202159",
     "status": "completed"
    },
    "tags": []
   },
   "outputs": [
    {
     "data": {
      "text/html": [
       "\n",
       "<iframe src='https://flo.uri.sh/visualisation/11270785/embed' title='Interactive or visual content'\n",
       "class='flourish-embed-iframe' frameborder='0' scrolling='no' style='width:100%;height:600px;' \n",
       "    sandbox='allow-same-origin allow-forms allow-scripts allow-downloads allow-popups allow-popups-to-escape-sandbox allow-top-navigation-by-user-activation'></iframe>\n",
       "    <div style='width:100%!;margin-top:4px!important;text-align:right!important;'>\n",
       "    <a class='flourish-credit' href='https://public.flourish.studio/visualisation/11270785/?utm_source=embed&utm_campaign=visualisation/11270785' target='_top' style='text-decoration:none!important'>\n",
       "    <img alt='Made with Flourish' src='https://public.flourish.studio/resources/made_with_flourish.svg' style='width:105px!important;height:16px!important;border:none!important;margin:0!important;'> \n",
       "    </a></div>\n"
      ],
      "text/plain": [
       "<IPython.core.display.HTML object>"
      ]
     },
     "metadata": {},
     "output_type": "display_data"
    }
   ],
   "source": [
    "display(display_usd)"
   ]
  },
  {
   "cell_type": "code",
   "execution_count": 12,
   "id": "6c7263a5",
   "metadata": {
    "execution": {
     "iopub.execute_input": "2023-08-15T20:03:00.275020Z",
     "iopub.status.busy": "2023-08-15T20:03:00.274564Z",
     "iopub.status.idle": "2023-08-15T20:03:00.307592Z",
     "shell.execute_reply": "2023-08-15T20:03:00.306063Z"
    },
    "papermill": {
     "duration": 0.057156,
     "end_time": "2023-08-15T20:03:00.310478",
     "exception": false,
     "start_time": "2023-08-15T20:03:00.253322",
     "status": "completed"
    },
    "tags": []
   },
   "outputs": [
    {
     "data": {
      "text/html": [
       "<div>\n",
       "<style scoped>\n",
       "    .dataframe tbody tr th:only-of-type {\n",
       "        vertical-align: middle;\n",
       "    }\n",
       "\n",
       "    .dataframe tbody tr th {\n",
       "        vertical-align: top;\n",
       "    }\n",
       "\n",
       "    .dataframe thead th {\n",
       "        text-align: right;\n",
       "    }\n",
       "</style>\n",
       "<table border=\"1\" class=\"dataframe\">\n",
       "  <thead>\n",
       "    <tr style=\"text-align: right;\">\n",
       "      <th></th>\n",
       "      <th>Country/Currency</th>\n",
       "      <th>currency</th>\n",
       "      <th>value</th>\n",
       "      <th>date</th>\n",
       "    </tr>\n",
       "  </thead>\n",
       "  <tbody>\n",
       "    <tr>\n",
       "      <th>67</th>\n",
       "      <td>India Rupee</td>\n",
       "      <td>INR</td>\n",
       "      <td>86.052225</td>\n",
       "      <td>2021-12-17</td>\n",
       "    </tr>\n",
       "    <tr>\n",
       "      <th>217</th>\n",
       "      <td>India Rupee</td>\n",
       "      <td>INR</td>\n",
       "      <td>85.424708</td>\n",
       "      <td>2021-12-18</td>\n",
       "    </tr>\n",
       "    <tr>\n",
       "      <th>367</th>\n",
       "      <td>India Rupee</td>\n",
       "      <td>INR</td>\n",
       "      <td>85.424708</td>\n",
       "      <td>2021-12-19</td>\n",
       "    </tr>\n",
       "    <tr>\n",
       "      <th>517</th>\n",
       "      <td>India Rupee</td>\n",
       "      <td>INR</td>\n",
       "      <td>85.497443</td>\n",
       "      <td>2021-12-20</td>\n",
       "    </tr>\n",
       "    <tr>\n",
       "      <th>667</th>\n",
       "      <td>India Rupee</td>\n",
       "      <td>INR</td>\n",
       "      <td>85.525694</td>\n",
       "      <td>2021-12-21</td>\n",
       "    </tr>\n",
       "  </tbody>\n",
       "</table>\n",
       "</div>"
      ],
      "text/plain": [
       "    Country/Currency currency      value       date\n",
       "67       India Rupee      INR  86.052225 2021-12-17\n",
       "217      India Rupee      INR  85.424708 2021-12-18\n",
       "367      India Rupee      INR  85.424708 2021-12-19\n",
       "517      India Rupee      INR  85.497443 2021-12-20\n",
       "667      India Rupee      INR  85.525694 2021-12-21"
      ]
     },
     "execution_count": 12,
     "metadata": {},
     "output_type": "execute_result"
    }
   ],
   "source": [
    "data_inr = dataset.loc[dataset.currency == 'INR']\n",
    "data_inr.head()"
   ]
  },
  {
   "cell_type": "markdown",
   "id": "a2225b6f",
   "metadata": {
    "papermill": {
     "duration": 0.019701,
     "end_time": "2023-08-15T20:03:00.350035",
     "exception": false,
     "start_time": "2023-08-15T20:03:00.330334",
     "status": "completed"
    },
    "tags": []
   },
   "source": [
    "## 2.6 Visualize INR Value"
   ]
  },
  {
   "cell_type": "code",
   "execution_count": 13,
   "id": "b8cfdbf5",
   "metadata": {
    "execution": {
     "iopub.execute_input": "2023-08-15T20:03:00.391491Z",
     "iopub.status.busy": "2023-08-15T20:03:00.391042Z",
     "iopub.status.idle": "2023-08-15T20:03:00.398317Z",
     "shell.execute_reply": "2023-08-15T20:03:00.397102Z"
    },
    "papermill": {
     "duration": 0.030442,
     "end_time": "2023-08-15T20:03:00.400591",
     "exception": false,
     "start_time": "2023-08-15T20:03:00.370149",
     "status": "completed"
    },
    "tags": []
   },
   "outputs": [
    {
     "data": {
      "text/html": [
       "\n",
       "<iframe src='https://flo.uri.sh/visualisation/11270830/embed' title='Interactive or visual content'\n",
       "class='flourish-embed-iframe' frameborder='0' scrolling='no' style='width:100%;height:600px;' \n",
       "    sandbox='allow-same-origin allow-forms allow-scripts allow-downloads allow-popups allow-popups-to-escape-sandbox allow-top-navigation-by-user-activation'></iframe>\n",
       "    <div style='width:100%!;margin-top:4px!important;text-align:right!important;'>\n",
       "    <a class='flourish-credit' href='https://public.flourish.studio/visualisation/11270830/?utm_source=embed&utm_campaign=visualisation/11270830' target='_top' style='text-decoration:none!important'>\n",
       "    <img alt='Made with Flourish' src='https://public.flourish.studio/resources/made_with_flourish.svg' style='width:105px!important;height:16px!important;border:none!important;margin:0!important;'> \n",
       "    </a></div>\n"
      ],
      "text/plain": [
       "<IPython.core.display.HTML object>"
      ]
     },
     "metadata": {},
     "output_type": "display_data"
    }
   ],
   "source": [
    "display(display_inr)"
   ]
  },
  {
   "cell_type": "markdown",
   "id": "62b0e7b8",
   "metadata": {
    "papermill": {
     "duration": 0.019437,
     "end_time": "2023-08-15T20:03:00.440194",
     "exception": false,
     "start_time": "2023-08-15T20:03:00.420757",
     "status": "completed"
    },
    "tags": []
   },
   "source": [
    "# 📙 3. Time series Analysis - INR value"
   ]
  },
  {
   "cell_type": "code",
   "execution_count": 14,
   "id": "c25438db",
   "metadata": {
    "execution": {
     "iopub.execute_input": "2023-08-15T20:03:00.483432Z",
     "iopub.status.busy": "2023-08-15T20:03:00.482333Z",
     "iopub.status.idle": "2023-08-15T20:03:00.502330Z",
     "shell.execute_reply": "2023-08-15T20:03:00.501364Z"
    },
    "papermill": {
     "duration": 0.044807,
     "end_time": "2023-08-15T20:03:00.504659",
     "exception": false,
     "start_time": "2023-08-15T20:03:00.459852",
     "status": "completed"
    },
    "tags": []
   },
   "outputs": [
    {
     "name": "stderr",
     "output_type": "stream",
     "text": [
      "/opt/conda/lib/python3.7/site-packages/pandas/core/frame.py:4913: SettingWithCopyWarning: \n",
      "A value is trying to be set on a copy of a slice from a DataFrame\n",
      "\n",
      "See the caveats in the documentation: https://pandas.pydata.org/pandas-docs/stable/user_guide/indexing.html#returning-a-view-versus-a-copy\n",
      "  errors=errors,\n"
     ]
    },
    {
     "data": {
      "text/html": [
       "<div>\n",
       "<style scoped>\n",
       "    .dataframe tbody tr th:only-of-type {\n",
       "        vertical-align: middle;\n",
       "    }\n",
       "\n",
       "    .dataframe tbody tr th {\n",
       "        vertical-align: top;\n",
       "    }\n",
       "\n",
       "    .dataframe thead th {\n",
       "        text-align: right;\n",
       "    }\n",
       "</style>\n",
       "<table border=\"1\" class=\"dataframe\">\n",
       "  <thead>\n",
       "    <tr style=\"text-align: right;\">\n",
       "      <th></th>\n",
       "      <th>value</th>\n",
       "    </tr>\n",
       "    <tr>\n",
       "      <th>date</th>\n",
       "      <th></th>\n",
       "    </tr>\n",
       "  </thead>\n",
       "  <tbody>\n",
       "    <tr>\n",
       "      <th>2021-12-17</th>\n",
       "      <td>86.052225</td>\n",
       "    </tr>\n",
       "    <tr>\n",
       "      <th>2021-12-18</th>\n",
       "      <td>85.424708</td>\n",
       "    </tr>\n",
       "    <tr>\n",
       "      <th>2021-12-19</th>\n",
       "      <td>85.424708</td>\n",
       "    </tr>\n",
       "    <tr>\n",
       "      <th>2021-12-20</th>\n",
       "      <td>85.497443</td>\n",
       "    </tr>\n",
       "    <tr>\n",
       "      <th>2021-12-21</th>\n",
       "      <td>85.525694</td>\n",
       "    </tr>\n",
       "  </tbody>\n",
       "</table>\n",
       "</div>"
      ],
      "text/plain": [
       "                value\n",
       "date                 \n",
       "2021-12-17  86.052225\n",
       "2021-12-18  85.424708\n",
       "2021-12-19  85.424708\n",
       "2021-12-20  85.497443\n",
       "2021-12-21  85.525694"
      ]
     },
     "execution_count": 14,
     "metadata": {},
     "output_type": "execute_result"
    }
   ],
   "source": [
    "data_inr.index = data_inr['date']\n",
    "data_inr.drop(['date', 'Country/Currency', 'currency'], axis = 1, inplace = True)\n",
    "data_inr.head()\n"
   ]
  },
  {
   "cell_type": "markdown",
   "id": "b60d5f04",
   "metadata": {
    "papermill": {
     "duration": 0.019743,
     "end_time": "2023-08-15T20:03:00.544571",
     "exception": false,
     "start_time": "2023-08-15T20:03:00.524828",
     "status": "completed"
    },
    "tags": []
   },
   "source": [
    "## 3.1 Check for Stationarity - ADF Test"
   ]
  },
  {
   "cell_type": "code",
   "execution_count": 15,
   "id": "4fda3c78",
   "metadata": {
    "execution": {
     "iopub.execute_input": "2023-08-15T20:03:00.587472Z",
     "iopub.status.busy": "2023-08-15T20:03:00.586692Z",
     "iopub.status.idle": "2023-08-15T20:03:01.772095Z",
     "shell.execute_reply": "2023-08-15T20:03:01.770456Z"
    },
    "papermill": {
     "duration": 1.212118,
     "end_time": "2023-08-15T20:03:01.776993",
     "exception": false,
     "start_time": "2023-08-15T20:03:00.564875",
     "status": "completed"
    },
    "tags": []
   },
   "outputs": [
    {
     "name": "stdout",
     "output_type": "stream",
     "text": [
      "ADF Statistic: -0.4291046901234898\n",
      "p-value: 0.9051247512698691\n",
      "Critial Values:\n",
      "   1%, -3.4413696108194607\n",
      "Critial Values:\n",
      "   5%, -2.8664016052801906\n",
      "Critial Values:\n",
      "   10%, -2.569359115918202\n"
     ]
    }
   ],
   "source": [
    "from statsmodels.tsa.stattools import adfuller\n",
    "\n",
    "result = adfuller(data_inr['value'].values, autolag='AIC')\n",
    "print(f'ADF Statistic: {result[0]}')\n",
    "print(f'p-value: {result[1]}')\n",
    "for key, value in result[4].items():\n",
    "    print('Critial Values:')\n",
    "    print(f'   {key}, {value}')"
   ]
  },
  {
   "cell_type": "markdown",
   "id": "7f4a8de8",
   "metadata": {
    "papermill": {
     "duration": 0.042363,
     "end_time": "2023-08-15T20:03:01.862541",
     "exception": false,
     "start_time": "2023-08-15T20:03:01.820178",
     "status": "completed"
    },
    "tags": []
   },
   "source": [
    "## Obs - \n",
    "\n",
    "    From ADF test, it's observed that, data is not stationary. \n",
    "    We can see p-value is 30% (usually it must be less than 0.05 or 5%), \n",
    "    and ADF-stat value is greater than all the critical values. \n",
    "    \n",
    "    Both these values confirms the data to be Non-Stationary"
   ]
  },
  {
   "cell_type": "markdown",
   "id": "1a2b9b5e",
   "metadata": {
    "papermill": {
     "duration": 0.020627,
     "end_time": "2023-08-15T20:03:01.916130",
     "exception": false,
     "start_time": "2023-08-15T20:03:01.895503",
     "status": "completed"
    },
    "tags": []
   },
   "source": [
    "## 3.2 ACF and PACF Plot"
   ]
  },
  {
   "cell_type": "code",
   "execution_count": 16,
   "id": "71c28705",
   "metadata": {
    "execution": {
     "iopub.execute_input": "2023-08-15T20:03:01.959534Z",
     "iopub.status.busy": "2023-08-15T20:03:01.959080Z",
     "iopub.status.idle": "2023-08-15T20:03:02.266410Z",
     "shell.execute_reply": "2023-08-15T20:03:02.265061Z"
    },
    "papermill": {
     "duration": 0.332079,
     "end_time": "2023-08-15T20:03:02.269263",
     "exception": false,
     "start_time": "2023-08-15T20:03:01.937184",
     "status": "completed"
    },
    "tags": []
   },
   "outputs": [
    {
     "name": "stdout",
     "output_type": "stream",
     "text": [
      "\n"
     ]
    },
    {
     "data": {
      "image/png": "[encoded data removed]",
      "text/plain": [
       "<Figure size 720x360 with 1 Axes>"
      ]
     },
     "metadata": {
      "needs_background": "light"
     },
     "output_type": "display_data"
    }
   ],
   "source": [
    "from statsmodels.graphics.tsaplots import plot_acf\n",
    "from statsmodels.graphics.tsaplots import plot_pacf\n",
    "import matplotlib.pyplot as plt\n",
    "\n",
    "plt.rc(\"figure\", figsize=(10,5))\n",
    "plot_acf(data_inr['value'])\n",
    "print()"
   ]
  },
  {
   "cell_type": "markdown",
   "id": "eb461257",
   "metadata": {
    "papermill": {
     "duration": 0.02089,
     "end_time": "2023-08-15T20:03:02.312180",
     "exception": false,
     "start_time": "2023-08-15T20:03:02.291290",
     "status": "completed"
    },
    "tags": []
   },
   "source": [
    "## Obs - \n",
    "\n",
    "    From ACF, we can observe a auto-correlation upto 25 lag values"
   ]
  },
  {
   "cell_type": "code",
   "execution_count": 17,
   "id": "fa98f535",
   "metadata": {
    "execution": {
     "iopub.execute_input": "2023-08-15T20:03:02.355576Z",
     "iopub.status.busy": "2023-08-15T20:03:02.355111Z",
     "iopub.status.idle": "2023-08-15T20:03:02.659288Z",
     "shell.execute_reply": "2023-08-15T20:03:02.658026Z"
    },
    "papermill": {
     "duration": 0.32898,
     "end_time": "2023-08-15T20:03:02.661987",
     "exception": false,
     "start_time": "2023-08-15T20:03:02.333007",
     "status": "completed"
    },
    "tags": []
   },
   "outputs": [
    {
     "name": "stderr",
     "output_type": "stream",
     "text": [
      "/opt/conda/lib/python3.7/site-packages/statsmodels/graphics/tsaplots.py:353: FutureWarning: The default method 'yw' can produce PACF values outside of the [-1,1] interval. After 0.13, the default will change tounadjusted Yule-Walker ('ywm'). You can use this method now by setting method='ywm'.\n",
      "  FutureWarning,\n"
     ]
    },
    {
     "name": "stdout",
     "output_type": "stream",
     "text": [
      "\n"
     ]
    },
    {
     "data": {
      "image/png": "[encoded data removed]",
      "text/plain": [
       "<Figure size 720x360 with 1 Axes>"
      ]
     },
     "metadata": {
      "needs_background": "light"
     },
     "output_type": "display_data"
    }
   ],
   "source": [
    "plt.rc(\"figure\", figsize=(10,5))\n",
    "plot_pacf(data_inr['value'])\n",
    "print()"
   ]
  },
  {
   "cell_type": "markdown",
   "id": "042a5cb9",
   "metadata": {
    "papermill": {
     "duration": 0.021032,
     "end_time": "2023-08-15T20:03:02.704710",
     "exception": false,
     "start_time": "2023-08-15T20:03:02.683678",
     "status": "completed"
    },
    "tags": []
   },
   "source": [
    "## Obs - \n",
    "\n",
    "    Partial auto-correlation shows only few lag values are actually correlated. "
   ]
  },
  {
   "cell_type": "markdown",
   "id": "803b4bee",
   "metadata": {
    "papermill": {
     "duration": 0.021283,
     "end_time": "2023-08-15T20:03:02.747382",
     "exception": false,
     "start_time": "2023-08-15T20:03:02.726099",
     "status": "completed"
    },
    "tags": []
   },
   "source": [
    "# 📙 4. Price forecasting"
   ]
  },
  {
   "cell_type": "markdown",
   "id": "17c2a515",
   "metadata": {
    "papermill": {
     "duration": 0.02155,
     "end_time": "2023-08-15T20:03:02.791875",
     "exception": false,
     "start_time": "2023-08-15T20:03:02.770325",
     "status": "completed"
    },
    "tags": []
   },
   "source": [
    "## 4.1 Train - Test Split"
   ]
  },
  {
   "cell_type": "code",
   "execution_count": 18,
   "id": "d3a9f873",
   "metadata": {
    "execution": {
     "iopub.execute_input": "2023-08-15T20:03:02.836939Z",
     "iopub.status.busy": "2023-08-15T20:03:02.836119Z",
     "iopub.status.idle": "2023-08-15T20:03:02.842003Z",
     "shell.execute_reply": "2023-08-15T20:03:02.840829Z"
    },
    "papermill": {
     "duration": 0.031091,
     "end_time": "2023-08-15T20:03:02.844313",
     "exception": false,
     "start_time": "2023-08-15T20:03:02.813222",
     "status": "completed"
    },
    "tags": []
   },
   "outputs": [
    {
     "name": "stdout",
     "output_type": "stream",
     "text": [
      "Shape of data:  (608,)\n"
     ]
    }
   ],
   "source": [
    "data = data_inr['value'].values\n",
    "print('Shape of data: ', data.shape)"
   ]
  },
  {
   "cell_type": "markdown",
   "id": "4ea75687",
   "metadata": {
    "papermill": {
     "duration": 0.021404,
     "end_time": "2023-08-15T20:03:02.887279",
     "exception": false,
     "start_time": "2023-08-15T20:03:02.865875",
     "status": "completed"
    },
    "tags": []
   },
   "source": [
    "## Obs - \n",
    "\n",
    "    Very few data points are available, so we will go for either ARIMA or LSTM with fewer nodes. "
   ]
  },
  {
   "cell_type": "code",
   "execution_count": 19,
   "id": "20660224",
   "metadata": {
    "execution": {
     "iopub.execute_input": "2023-08-15T20:03:02.932659Z",
     "iopub.status.busy": "2023-08-15T20:03:02.931890Z",
     "iopub.status.idle": "2023-08-15T20:03:02.939544Z",
     "shell.execute_reply": "2023-08-15T20:03:02.937967Z"
    },
    "papermill": {
     "duration": 0.033122,
     "end_time": "2023-08-15T20:03:02.942058",
     "exception": false,
     "start_time": "2023-08-15T20:03:02.908936",
     "status": "completed"
    },
    "tags": []
   },
   "outputs": [
    {
     "name": "stdout",
     "output_type": "stream",
     "text": [
      "Train length:  486\n",
      "Shape of Train and Test data:  486 122\n"
     ]
    }
   ],
   "source": [
    "# Separate train and test data\n",
    "train_length = int(len(data) * 0.8)\n",
    "print('Train length: ', train_length)\n",
    "\n",
    "train_data, test_data = data[:train_length], data[train_length:]\n",
    "print('Shape of Train and Test data: ', len(train_data), len(test_data))"
   ]
  },
  {
   "cell_type": "markdown",
   "id": "82bfceeb",
   "metadata": {
    "papermill": {
     "duration": 0.021202,
     "end_time": "2023-08-15T20:03:02.984867",
     "exception": false,
     "start_time": "2023-08-15T20:03:02.963665",
     "status": "completed"
    },
    "tags": []
   },
   "source": [
    "## 4.2 Make time-series data supervised"
   ]
  },
  {
   "cell_type": "code",
   "execution_count": 20,
   "id": "43f8e125",
   "metadata": {
    "execution": {
     "iopub.execute_input": "2023-08-15T20:03:03.030596Z",
     "iopub.status.busy": "2023-08-15T20:03:03.029519Z",
     "iopub.status.idle": "2023-08-15T20:03:03.037725Z",
     "shell.execute_reply": "2023-08-15T20:03:03.036761Z"
    },
    "papermill": {
     "duration": 0.034019,
     "end_time": "2023-08-15T20:03:03.040348",
     "exception": false,
     "start_time": "2023-08-15T20:03:03.006329",
     "status": "completed"
    },
    "tags": []
   },
   "outputs": [],
   "source": [
    "# split a univariate sequence into supervised learning [Input and Output]\n",
    "from numpy import array\n",
    "def split_sequence(sequence, n_steps):\n",
    "    X, y = list(), list()\n",
    "    for i in range(len(sequence)):\n",
    "        end_ix = i + n_steps\n",
    "        if end_ix > len(sequence)-1:\n",
    "            break\n",
    "        seq_x, seq_y = sequence[i:end_ix], sequence[end_ix]\n",
    "        X.append(seq_x)\n",
    "        y.append(seq_y)\n",
    "    return array(X), array(y)"
   ]
  },
  {
   "cell_type": "markdown",
   "id": "df961fa9",
   "metadata": {
    "papermill": {
     "duration": 0.021338,
     "end_time": "2023-08-15T20:03:03.083958",
     "exception": false,
     "start_time": "2023-08-15T20:03:03.062620",
     "status": "completed"
    },
    "tags": []
   },
   "source": [
    "## 4.3 Choose Lag value"
   ]
  },
  {
   "cell_type": "code",
   "execution_count": 21,
   "id": "4930af31",
   "metadata": {
    "execution": {
     "iopub.execute_input": "2023-08-15T20:03:03.129484Z",
     "iopub.status.busy": "2023-08-15T20:03:03.128292Z",
     "iopub.status.idle": "2023-08-15T20:03:03.133901Z",
     "shell.execute_reply": "2023-08-15T20:03:03.133019Z"
    },
    "papermill": {
     "duration": 0.031029,
     "end_time": "2023-08-15T20:03:03.136519",
     "exception": false,
     "start_time": "2023-08-15T20:03:03.105490",
     "status": "completed"
    },
    "tags": []
   },
   "outputs": [],
   "source": [
    "lag = 3  # Empirically we have choosen\n",
    "n_features = 1"
   ]
  },
  {
   "cell_type": "code",
   "execution_count": 22,
   "id": "e6c0638e",
   "metadata": {
    "execution": {
     "iopub.execute_input": "2023-08-15T20:03:03.182560Z",
     "iopub.status.busy": "2023-08-15T20:03:03.181444Z",
     "iopub.status.idle": "2023-08-15T20:03:03.189052Z",
     "shell.execute_reply": "2023-08-15T20:03:03.188019Z"
    },
    "papermill": {
     "duration": 0.033173,
     "end_time": "2023-08-15T20:03:03.191602",
     "exception": false,
     "start_time": "2023-08-15T20:03:03.158429",
     "status": "completed"
    },
    "tags": []
   },
   "outputs": [],
   "source": [
    "train_X, train_y = split_sequence(train_data, lag)\n",
    "test_X, test_y = split_sequence(test_data, lag)"
   ]
  },
  {
   "cell_type": "code",
   "execution_count": 23,
   "id": "d1fbccfb",
   "metadata": {
    "execution": {
     "iopub.execute_input": "2023-08-15T20:03:03.236497Z",
     "iopub.status.busy": "2023-08-15T20:03:03.236083Z",
     "iopub.status.idle": "2023-08-15T20:03:03.243212Z",
     "shell.execute_reply": "2023-08-15T20:03:03.241818Z"
    },
    "papermill": {
     "duration": 0.032698,
     "end_time": "2023-08-15T20:03:03.245864",
     "exception": false,
     "start_time": "2023-08-15T20:03:03.213166",
     "status": "completed"
    },
    "tags": []
   },
   "outputs": [
    {
     "name": "stdout",
     "output_type": "stream",
     "text": [
      "Shape of train_X and train_y:  (483, 3) (483,)\n",
      "Shape of test_X and test_y:  (119, 3) (119,)\n"
     ]
    }
   ],
   "source": [
    "print('Shape of train_X and train_y: ', train_X.shape, train_y.shape)\n",
    "print('Shape of test_X and test_y: ', test_X.shape, test_y.shape)"
   ]
  },
  {
   "cell_type": "code",
   "execution_count": 24,
   "id": "97411588",
   "metadata": {
    "execution": {
     "iopub.execute_input": "2023-08-15T20:03:03.292072Z",
     "iopub.status.busy": "2023-08-15T20:03:03.291265Z",
     "iopub.status.idle": "2023-08-15T20:03:03.298160Z",
     "shell.execute_reply": "2023-08-15T20:03:03.297183Z"
    },
    "papermill": {
     "duration": 0.033207,
     "end_time": "2023-08-15T20:03:03.300687",
     "exception": false,
     "start_time": "2023-08-15T20:03:03.267480",
     "status": "completed"
    },
    "tags": []
   },
   "outputs": [],
   "source": [
    "train_X = train_X.reshape((train_X.shape[0], train_X.shape[1], n_features))\n",
    "test_X = test_X.reshape((test_X.shape[0], test_X.shape[1], n_features))"
   ]
  },
  {
   "cell_type": "code",
   "execution_count": 25,
   "id": "6ca860bd",
   "metadata": {
    "execution": {
     "iopub.execute_input": "2023-08-15T20:03:03.346146Z",
     "iopub.status.busy": "2023-08-15T20:03:03.345719Z",
     "iopub.status.idle": "2023-08-15T20:03:03.352487Z",
     "shell.execute_reply": "2023-08-15T20:03:03.351147Z"
    },
    "papermill": {
     "duration": 0.032704,
     "end_time": "2023-08-15T20:03:03.355171",
     "exception": false,
     "start_time": "2023-08-15T20:03:03.322467",
     "status": "completed"
    },
    "tags": []
   },
   "outputs": [
    {
     "name": "stdout",
     "output_type": "stream",
     "text": [
      "Shape of train_X and train_y:  (483, 3, 1) (483,)\n",
      "Shape of test_X and test_y:  (119, 3, 1) (119,)\n"
     ]
    }
   ],
   "source": [
    "# New shape of train_X and test_X are :-\n",
    "print('Shape of train_X and train_y: ', train_X.shape, train_y.shape)\n",
    "print('Shape of test_X and test_y: ', test_X.shape, test_y.shape)\n"
   ]
  },
  {
   "cell_type": "markdown",
   "id": "e25d4fec",
   "metadata": {
    "papermill": {
     "duration": 0.021565,
     "end_time": "2023-08-15T20:03:03.398897",
     "exception": false,
     "start_time": "2023-08-15T20:03:03.377332",
     "status": "completed"
    },
    "tags": []
   },
   "source": [
    "## 4.4 Define Model"
   ]
  },
  {
   "cell_type": "code",
   "execution_count": 26,
   "id": "903a8d95",
   "metadata": {
    "execution": {
     "iopub.execute_input": "2023-08-15T20:03:03.444329Z",
     "iopub.status.busy": "2023-08-15T20:03:03.443868Z",
     "iopub.status.idle": "2023-08-15T20:03:09.514135Z",
     "shell.execute_reply": "2023-08-15T20:03:09.512905Z"
    },
    "papermill": {
     "duration": 6.096779,
     "end_time": "2023-08-15T20:03:09.517313",
     "exception": false,
     "start_time": "2023-08-15T20:03:03.420534",
     "status": "completed"
    },
    "tags": []
   },
   "outputs": [],
   "source": [
    "from keras.models import Sequential\n",
    "from keras.layers import LSTM\n",
    "from keras.layers import Dense"
   ]
  },
  {
   "cell_type": "code",
   "execution_count": 27,
   "id": "e1c47b40",
   "metadata": {
    "execution": {
     "iopub.execute_input": "2023-08-15T20:03:09.563016Z",
     "iopub.status.busy": "2023-08-15T20:03:09.561889Z",
     "iopub.status.idle": "2023-08-15T20:03:09.802902Z",
     "shell.execute_reply": "2023-08-15T20:03:09.801773Z"
    },
    "papermill": {
     "duration": 0.266621,
     "end_time": "2023-08-15T20:03:09.805599",
     "exception": false,
     "start_time": "2023-08-15T20:03:09.538978",
     "status": "completed"
    },
    "tags": []
   },
   "outputs": [
    {
     "name": "stdout",
     "output_type": "stream",
     "text": [
      "Model: \"sequential\"\n",
      "_________________________________________________________________\n",
      "Layer (type)                 Output Shape              Param #   \n",
      "=================================================================\n",
      "lstm (LSTM)                  (None, 16)                1152      \n",
      "_________________________________________________________________\n",
      "dense (Dense)                (None, 1)                 17        \n",
      "=================================================================\n",
      "Total params: 1,169\n",
      "Trainable params: 1,169\n",
      "Non-trainable params: 0\n",
      "_________________________________________________________________\n"
     ]
    }
   ],
   "source": [
    "# define model\n",
    "model = Sequential()\n",
    "model.add(LSTM(16, activation='relu', return_sequences=False, input_shape=(lag, n_features)))\n",
    "model.add(Dense(1))\n",
    "model.compile(optimizer='adam', loss='mse')\n",
    "model.summary()"
   ]
  },
  {
   "cell_type": "markdown",
   "id": "dccc2702",
   "metadata": {
    "papermill": {
     "duration": 0.021643,
     "end_time": "2023-08-15T20:03:09.849040",
     "exception": false,
     "start_time": "2023-08-15T20:03:09.827397",
     "status": "completed"
    },
    "tags": []
   },
   "source": [
    "## 4.5 Fit the model - with training data"
   ]
  },
  {
   "cell_type": "code",
   "execution_count": 28,
   "id": "72d0662a",
   "metadata": {
    "_kg_hide-input": true,
    "execution": {
     "iopub.execute_input": "2023-08-15T20:03:09.894589Z",
     "iopub.status.busy": "2023-08-15T20:03:09.894174Z",
     "iopub.status.idle": "2023-08-15T20:03:09.899449Z",
     "shell.execute_reply": "2023-08-15T20:03:09.898181Z"
    },
    "papermill": {
     "duration": 0.03096,
     "end_time": "2023-08-15T20:03:09.901856",
     "exception": false,
     "start_time": "2023-08-15T20:03:09.870896",
     "status": "completed"
    },
    "tags": []
   },
   "outputs": [],
   "source": [
    "# As you are trying to use function decorator in TF 2.0, \n",
    "# please enable run function eagerly by using below line after importing TensorFlow:\n",
    "import tensorflow as tf\n",
    "tf.config.run_functions_eagerly(True)"
   ]
  },
  {
   "cell_type": "code",
   "execution_count": 29,
   "id": "f1968480",
   "metadata": {
    "_kg_hide-output": true,
    "execution": {
     "iopub.execute_input": "2023-08-15T20:03:09.947221Z",
     "iopub.status.busy": "2023-08-15T20:03:09.946820Z",
     "iopub.status.idle": "2023-08-15T20:03:51.017519Z",
     "shell.execute_reply": "2023-08-15T20:03:51.016152Z"
    },
    "papermill": {
     "duration": 41.097511,
     "end_time": "2023-08-15T20:03:51.021056",
     "exception": false,
     "start_time": "2023-08-15T20:03:09.923545",
     "status": "completed"
    },
    "tags": []
   },
   "outputs": [
    {
     "name": "stderr",
     "output_type": "stream",
     "text": [
      "/opt/conda/lib/python3.7/site-packages/tensorflow/python/data/ops/dataset_ops.py:4212: UserWarning: Even though the `tf.config.experimental_run_functions_eagerly` option is set, this option does not apply to tf.data functions. To force eager execution of tf.data functions, please use `tf.data.experimental.enable_debug_mode()`.\n",
      "  \"Even though the `tf.config.experimental_run_functions_eagerly` \"\n"
     ]
    },
    {
     "name": "stdout",
     "output_type": "stream",
     "text": [
      "Epoch 1/25\n",
      "55/55 [==============================] - 1s 22ms/step - loss: 1549.0719 - val_loss: 221.6179\n",
      "Epoch 2/25\n",
      "55/55 [==============================] - 1s 21ms/step - loss: 19.9934 - val_loss: 0.8156\n",
      "Epoch 3/25\n",
      "55/55 [==============================] - 1s 21ms/step - loss: 0.2652 - val_loss: 0.2556\n",
      "Epoch 4/25\n",
      "55/55 [==============================] - 1s 21ms/step - loss: 0.2267 - val_loss: 0.2559\n",
      "Epoch 5/25\n",
      "55/55 [==============================] - 1s 22ms/step - loss: 0.2262 - val_loss: 0.2644\n",
      "Epoch 6/25\n",
      "55/55 [==============================] - 1s 21ms/step - loss: 0.2259 - val_loss: 0.2575\n",
      "Epoch 7/25\n",
      "55/55 [==============================] - 1s 23ms/step - loss: 0.2242 - val_loss: 0.2552\n",
      "Epoch 8/25\n",
      "55/55 [==============================] - 1s 22ms/step - loss: 0.2272 - val_loss: 0.2595\n",
      "Epoch 9/25\n",
      "55/55 [==============================] - 1s 22ms/step - loss: 0.2234 - val_loss: 0.2558\n",
      "Epoch 10/25\n",
      "55/55 [==============================] - 1s 22ms/step - loss: 0.2295 - val_loss: 0.2622\n",
      "Epoch 11/25\n",
      "55/55 [==============================] - 1s 22ms/step - loss: 0.2294 - val_loss: 0.2602\n",
      "Epoch 12/25\n",
      "55/55 [==============================] - 1s 22ms/step - loss: 0.2325 - val_loss: 0.2668\n",
      "Epoch 13/25\n",
      "55/55 [==============================] - 1s 22ms/step - loss: 0.2255 - val_loss: 0.2589\n",
      "Epoch 14/25\n",
      "55/55 [==============================] - 1s 21ms/step - loss: 0.2243 - val_loss: 0.2549\n",
      "Epoch 15/25\n",
      "55/55 [==============================] - 1s 22ms/step - loss: 0.2282 - val_loss: 0.2897\n",
      "Epoch 16/25\n",
      "55/55 [==============================] - 1s 22ms/step - loss: 0.2276 - val_loss: 0.2555\n",
      "Epoch 17/25\n",
      "55/55 [==============================] - 1s 22ms/step - loss: 0.2270 - val_loss: 0.2567\n",
      "Epoch 18/25\n",
      "55/55 [==============================] - 1s 22ms/step - loss: 0.2256 - val_loss: 0.2545\n",
      "Epoch 19/25\n",
      "55/55 [==============================] - 1s 22ms/step - loss: 0.2361 - val_loss: 0.2838\n",
      "Epoch 20/25\n",
      "55/55 [==============================] - 1s 22ms/step - loss: 0.2289 - val_loss: 0.2600\n",
      "Epoch 21/25\n",
      "55/55 [==============================] - 1s 22ms/step - loss: 0.2364 - val_loss: 0.2585\n",
      "Epoch 22/25\n",
      "55/55 [==============================] - 1s 22ms/step - loss: 0.2277 - val_loss: 0.2537\n",
      "Epoch 23/25\n",
      "55/55 [==============================] - 1s 22ms/step - loss: 0.2351 - val_loss: 0.2541\n",
      "Epoch 24/25\n",
      "55/55 [==============================] - 1s 22ms/step - loss: 0.2258 - val_loss: 0.2535\n",
      "Epoch 25/25\n",
      "55/55 [==============================] - 1s 22ms/step - loss: 0.2278 - val_loss: 0.2596\n"
     ]
    }
   ],
   "source": [
    "# fit model\n",
    "history = model.fit(train_X, train_y, epochs = 25, batch_size=8, verbose=1, validation_split= 0.1)"
   ]
  },
  {
   "cell_type": "markdown",
   "id": "681824c7",
   "metadata": {
    "papermill": {
     "duration": 0.065762,
     "end_time": "2023-08-15T20:03:51.152893",
     "exception": false,
     "start_time": "2023-08-15T20:03:51.087131",
     "status": "completed"
    },
    "tags": []
   },
   "source": [
    "## 4.6 Summarize model Loss"
   ]
  },
  {
   "cell_type": "code",
   "execution_count": 30,
   "id": "ac56dcae",
   "metadata": {
    "execution": {
     "iopub.execute_input": "2023-08-15T20:03:51.288968Z",
     "iopub.status.busy": "2023-08-15T20:03:51.288299Z",
     "iopub.status.idle": "2023-08-15T20:03:51.536678Z",
     "shell.execute_reply": "2023-08-15T20:03:51.535703Z"
    },
    "papermill": {
     "duration": 0.318086,
     "end_time": "2023-08-15T20:03:51.539255",
     "exception": false,
     "start_time": "2023-08-15T20:03:51.221169",
     "status": "completed"
    },
    "tags": []
   },
   "outputs": [
    {
     "data": {
      "image/png": "[encoded data removed]",
      "text/plain": [
       "<Figure size 720x360 with 1 Axes>"
      ]
     },
     "metadata": {
      "needs_background": "light"
     },
     "output_type": "display_data"
    }
   ],
   "source": [
    "# summarize history for loss\n",
    "plt.plot(history.history['loss'])\n",
    "plt.plot(history.history['val_loss'])\n",
    "plt.title('model loss')\n",
    "plt.ylabel('loss')\n",
    "plt.xlabel('epoch')\n",
    "plt.legend(['train', 'test'], loc='upper left')\n",
    "plt.show()"
   ]
  },
  {
   "cell_type": "markdown",
   "id": "f8b73b45",
   "metadata": {
    "papermill": {
     "duration": 0.067407,
     "end_time": "2023-08-15T20:03:51.673661",
     "exception": false,
     "start_time": "2023-08-15T20:03:51.606254",
     "status": "completed"
    },
    "tags": []
   },
   "source": [
    "## Obs - \n",
    "\n",
    "    We could have stopped in 10th epoch"
   ]
  },
  {
   "cell_type": "markdown",
   "id": "4404a2a0",
   "metadata": {
    "papermill": {
     "duration": 0.066646,
     "end_time": "2023-08-15T20:03:51.809235",
     "exception": false,
     "start_time": "2023-08-15T20:03:51.742589",
     "status": "completed"
    },
    "tags": []
   },
   "source": [
    "## 4.7 Make prediction - with Test data"
   ]
  },
  {
   "cell_type": "code",
   "execution_count": 31,
   "id": "a3f049dc",
   "metadata": {
    "execution": {
     "iopub.execute_input": "2023-08-15T20:03:51.944293Z",
     "iopub.status.busy": "2023-08-15T20:03:51.943640Z",
     "iopub.status.idle": "2023-08-15T20:03:52.254628Z",
     "shell.execute_reply": "2023-08-15T20:03:52.253691Z"
    },
    "papermill": {
     "duration": 0.381707,
     "end_time": "2023-08-15T20:03:52.257645",
     "exception": false,
     "start_time": "2023-08-15T20:03:51.875938",
     "status": "completed"
    },
    "tags": []
   },
   "outputs": [
    {
     "name": "stdout",
     "output_type": "stream",
     "text": [
      "Shape of train and test predict:  (483, 1) (119, 1)\n"
     ]
    }
   ],
   "source": [
    "train_predict = model.predict(train_X)\n",
    "test_predict = model.predict(test_X)\n",
    "\n",
    "print('Shape of train and test predict: ', train_predict.shape, test_predict.shape)"
   ]
  },
  {
   "cell_type": "markdown",
   "id": "0f14bf0a",
   "metadata": {
    "papermill": {
     "duration": 0.06843,
     "end_time": "2023-08-15T20:03:52.394190",
     "exception": false,
     "start_time": "2023-08-15T20:03:52.325760",
     "status": "completed"
    },
    "tags": []
   },
   "source": [
    "## 4.8 Model evaluation"
   ]
  },
  {
   "cell_type": "code",
   "execution_count": 32,
   "id": "b3a84ea1",
   "metadata": {
    "execution": {
     "iopub.execute_input": "2023-08-15T20:03:52.530740Z",
     "iopub.status.busy": "2023-08-15T20:03:52.530079Z",
     "iopub.status.idle": "2023-08-15T20:03:52.734725Z",
     "shell.execute_reply": "2023-08-15T20:03:52.733749Z"
    },
    "papermill": {
     "duration": 0.275733,
     "end_time": "2023-08-15T20:03:52.737456",
     "exception": false,
     "start_time": "2023-08-15T20:03:52.461723",
     "status": "completed"
    },
    "tags": []
   },
   "outputs": [
    {
     "name": "stdout",
     "output_type": "stream",
     "text": [
      "Train and Test RMSE:  0.4747818181016509 0.45455345282414783\n"
     ]
    }
   ],
   "source": [
    "# root mean squared error or rmse\n",
    "import math\n",
    "from sklearn.metrics import mean_squared_error\n",
    "\n",
    "def measure_rmse(actual, predicted):\n",
    "    return math.sqrt(mean_squared_error(actual, predicted))\n",
    "\n",
    "train_score = measure_rmse(train_y, train_predict)\n",
    "test_score = measure_rmse(test_y, test_predict)\n",
    "\n",
    "print('Train and Test RMSE: ', train_score, test_score)"
   ]
  },
  {
   "cell_type": "markdown",
   "id": "6176c9fd",
   "metadata": {
    "papermill": {
     "duration": 0.066164,
     "end_time": "2023-08-15T20:03:52.871190",
     "exception": false,
     "start_time": "2023-08-15T20:03:52.805026",
     "status": "completed"
    },
    "tags": []
   },
   "source": [
    "## 4.9 Plot test data and Predicted data"
   ]
  },
  {
   "cell_type": "code",
   "execution_count": 33,
   "id": "a812b1a1",
   "metadata": {
    "execution": {
     "iopub.execute_input": "2023-08-15T20:03:53.006604Z",
     "iopub.status.busy": "2023-08-15T20:03:53.005933Z",
     "iopub.status.idle": "2023-08-15T20:03:53.301453Z",
     "shell.execute_reply": "2023-08-15T20:03:53.300096Z"
    },
    "papermill": {
     "duration": 0.366527,
     "end_time": "2023-08-15T20:03:53.304085",
     "exception": false,
     "start_time": "2023-08-15T20:03:52.937558",
     "status": "completed"
    },
    "tags": []
   },
   "outputs": [
    {
     "data": {
      "image/png": "[encoded data removed]",
      "text/plain": [
       "<Figure size 1008x576 with 1 Axes>"
      ]
     },
     "metadata": {
      "needs_background": "light"
     },
     "output_type": "display_data"
    }
   ],
   "source": [
    "plt.rc(\"figure\", figsize=(14,8))\n",
    "plt.rcParams.update({'font.size': 16})\n",
    "plt.plot(test_y, label = 'Actual')\n",
    "plt.plot(test_predict, label = 'Predicted')\n",
    "plt.xlabel('Time [in days]')\n",
    "plt.ylabel('INR price')\n",
    "plt.title('Currency price (INR) prediction using LSTM - Test data')\n",
    "plt.legend()\n",
    "plt.show()"
   ]
  },
  {
   "cell_type": "markdown",
   "id": "292a8dd1",
   "metadata": {},
   "source": [
    "**Further Ananlysis and Prediction to be carried out using GridSearch using Boosting Algorithms**"
   ]
  }
 ],
 "metadata": {
  "kernelspec": {
   "display_name": "Python 3",
   "language": "python",
   "name": "python3"
  },
  "language_info": {
   "codemirror_mode": {
    "name": "ipython",
    "version": 3
   },
   "file_extension": ".py",
   "mimetype": "text/x-python",
   "name": "python",
   "nbconvert_exporter": "python",
   "pygments_lexer": "ipython3",
   "version": "3.7.12"
  },
  "papermill": {
   "default_parameters": {},
   "duration": 68.80713,
   "end_time": "2023-08-15T20:03:56.700029",
   "environment_variables": {},
   "exception": null,
   "input_path": "__notebook__.ipynb",
   "output_path": "__notebook__.ipynb",
   "parameters": {},
   "start_time": "2023-08-15T20:02:47.892899",
   "version": "2.3.4"
  }
 },
 "nbformat": 4,
 "nbformat_minor": 5
}
